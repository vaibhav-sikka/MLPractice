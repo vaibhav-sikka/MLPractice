{
 "cells": [
  {
   "cell_type": "code",
   "execution_count": null,
   "metadata": {},
   "outputs": [],
   "source": []
  },
  {
   "cell_type": "code",
   "execution_count": null,
   "metadata": {},
   "outputs": [],
   "source": []
  },
  {
   "cell_type": "markdown",
   "metadata": {},
   "source": [
    "# Jupyter Notebook\n",
    "\n",
    "## Notebook headers:\n",
    "Logo and title:\n",
    "<div style=\"display:block\">\n",
    "    <div style=\"width: 14%; display: inline-block; text-align: left;\">\n",
    "        <img src=\"data:image/png;base64,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\" style=\"height:75px; margin-left:0px\" />\n",
    "    </div>\n",
    "    <div style=\"width: 70%; display: inline-block\">\n",
    "        <h5  style=\"color:#1A00D9; text-align: center; font-size:28px;\">Understanding LR using gradient descent</h5>\n",
    "        <div style=\"color:#226BD6; width: 90%; text-align: center; display: inline-block;\"><i>Author(s): </i> <strong>Vaibhav</strong> </div>\n",
    "    </div>\n",
    "    <div style=\"color:#226BD6; width: 15%; text-align: right; display: inline-block;\">\n",
    "        <div style=\"color:#226BD6; width: 100%; text-align: left; display: inline-block;\">\n",
    "            <i>Created : Sep 16th, 2022</i></br>\n",
    "            <i>Modified: Sep 16th, 2022</i>\n",
    "        </div>\n",
    "    </div>\n",
    "</div>"
   ]
  },
  {
   "cell_type": "markdown",
   "metadata": {},
   "source": [
    "<font color=\"#226BD6\">**Purpose:**</font>  \n",
    "<!-- Enter purpose below -->\n",
    "Underrstanding Multiple Linear Regression using Gradient Descent\n",
    "\n",
    "<font color=\"#226BD6\">**User Inputs:**</font>  \n",
    "- **PATH_DIR_DATA**: (variable) Folder containing ..\n",
    "- **PATH_OUTPUT_EXCEL**: (variable) Name of the output file "
   ]
  },
  {
   "cell_type": "markdown",
   "metadata": {},
   "source": [
    "## What is regression?"
   ]
  },
  {
   "cell_type": "markdown",
   "metadata": {},
   "source": [
    "Simple linear regression is a statistical technique for finding the existence\n",
    "of an association relationship between a dependent variable (aka\n",
    "response variable or outcome variable) and an independent variable (aka explanatory variable or predictor variable). Simple linear\n",
    "regression implies that there is only one independent variable in\n",
    "the model.\n",
    "\n",
    "\n",
    "\n",
    "However, in practical scenarios we have more than one independent variable which is a case of multiple linear regression\n",
    "$$\\begin{align}\n",
    "        Y&=\\theta_{0}+\\theta_{1}\\times X_{1} + \\theta_{2}\\times X_{2} + \\epsilon\n",
    "\\end{align}$$\n",
    "\n",
    "Regression searches for relationships among <b>variables</b>. For example, you can observe several employees of some company and try to understand how their salaries depend on their <b>features</b>, such as experience, education level, role, city of employment, and so on.\n",
    "\n",
    "This is a regression problem where data related to each employee represents one observation. The presumption is that the experience, education, role, and city are the independent features, while the salary depends on them.\n",
    "\n",
    "Similarly, you can try to establish the mathematical dependence of housing prices on area, number of bedrooms, distance to the city center, and so on.\n",
    "\n",
    "Generally, in regression analysis, you consider some phenomenon of interest and have a number of observations. Each observation has two or more features. Following the assumption that at least one of the features depends on the others, you try to establish a relation among them.\n",
    "\n",
    "<b><i>Our challenge today is to determine the value of m and c, such that the line corresponding to those values is the best fitting line or gives the minimum error..</i></b>\n",
    "\n"
   ]
  },
  {
   "cell_type": "markdown",
   "metadata": {},
   "source": [
    "## Why do we need regression "
   ]
  },
  {
   "cell_type": "markdown",
   "metadata": {},
   "source": [
    "Linear regression has two primary purposes—understanding the relationships between variables and forecasting.\n",
    "\n",
    "- The coefficients represent the estimated magnitude and direction (positive/negative) of the relationship between each independent variable and the dependent variable.\n",
    "- A linear regression equation allows you to predict the mean value of the dependent variable given values of the independent variables that you specify."
   ]
  },
  {
   "cell_type": "markdown",
   "metadata": {},
   "source": [
    "## How do we get the best params-  Gradient Descent"
   ]
  },
  {
   "cell_type": "markdown",
   "metadata": {},
   "source": [
    "Gradient descent is an iterative optimization algorithm to find the minimum of a function. Here that function is our Loss Function.`"
   ]
  },
  {
   "cell_type": "markdown",
   "metadata": {},
   "source": [
    "![gd](C:\\Users\\vaibhav.sikka\\Desktop\\ML_Practice\\Gradient_descent.jpeg)"
   ]
  },
  {
   "cell_type": "markdown",
   "metadata": {},
   "source": [
    "Imagine a valley and a person with no sense of direction who wants to get to the bottom of the valley. He goes down the slope and takes large steps when the slope is steep and small steps when the slope is less steep. He decides his next position based on his current position and stops when he gets to the bottom of the valley which was his goal.\n",
    "Let’s try applying gradient descent to m and c and approach it step by step:\n",
    "\n",
    "1. Initially let m = 0 and c = 0. Let L be our learning rate. This controls how much the value of m changes with each step. L could be a small value like 0.0001 for good accuracy.\n",
    "2. Calculate the partial derivative of the loss function with respect to m, and plug in the current values of x, y, m and c in it to obtain the derivative value D."
   ]
  },
  {
   "cell_type": "markdown",
   "metadata": {},
   "source": [
    "$$ D_{m}= 1/n \\sum_{i=0}^{n} 2(y_{i}-(mx_{i}+c))(-x_{i}) $$ \n",
    "\n",
    "$$ D_{m}= -2/n \\sum_{i=0}^{n} x_{i}(y_{i}-\\hat{y_{i}}) $$ "
   ]
  },
  {
   "cell_type": "markdown",
   "metadata": {},
   "source": [
    "Dₘ is the value of the partial derivative with respect to m. Similarly lets find the partial derivative with respect to c, Dc :"
   ]
  },
  {
   "cell_type": "markdown",
   "metadata": {},
   "source": [
    "$$ D_{c}= -2/n \\sum_{i=0}^{n} (y_{i}-\\hat{y_{i}}) $$ "
   ]
  },
  {
   "cell_type": "markdown",
   "metadata": {},
   "source": [
    "3. Now we update the current value of m and c using the following equation:"
   ]
  },
  {
   "cell_type": "markdown",
   "metadata": {},
   "source": [
    "$$ m=m-L \\times D_{m}$$\n",
    "$$ c=c-L \\times D_{c}$$"
   ]
  },
  {
   "cell_type": "markdown",
   "metadata": {},
   "source": [
    "4. We repeat this process until our loss function is a very small value or ideally 0 (which means 0 error or 100% accuracy). The value of m and c that we are left with now will be the optimum values"
   ]
  },
  {
   "cell_type": "markdown",
   "metadata": {},
   "source": [
    "Now going back to our analogy, m can be considered the current position of the person. D is equivalent to the steepness of the slope and L can be the speed with which he moves. Now the new value of m that we calculate using the above equation will be his next position, and L×D will be the size of the steps he will take. When the slope is more steep (D is more) he takes longer steps and when it is less steep (D is less), he takes smaller steps. Finally he arrives at the bottom of the valley which corresponds to our loss = 0.\n",
    "Now with the optimum value of m and c our model is ready to make predictions !"
   ]
  },
  {
   "cell_type": "markdown",
   "metadata": {},
   "source": [
    "## Model Assmptions"
   ]
  },
  {
   "cell_type": "markdown",
   "metadata": {},
   "source": [
    "We need to check few assumption of linear regression model. The common assumption for Linear Regression model are following\n",
    "\n",
    "- <b>Linear Relationship</b>: In linear regression the relationship between the dependent and independent variable to be linear. This can be checked by scatter ploting Actual value Vs Predicted value\n",
    "- The residual <b>error plot should be normally distributed.</b>\n",
    "- The mean of residual error should be 0 or close to 0 as much as possible\n",
    "- The linear regression require all variables to be multivariate normal.This assumption can best checked with Q-Q plot.\n",
    "- Linear regession assumes that there is <b>little or no Multicollinearity in the data</b>. Multicollinearity occurs when the independent variables are too highly correlated with each other. The variance inflation factor VIF* identifies correlation between independent variables and strength of that correlation.  VIF=11−R2 , If VIF >1 & VIF <5 moderate correlation, VIF < 5 critical level of multicollinearity.\n",
    "- <b>Homoscedasticity</b>: The data are homoscedastic meaning the residuals are equal across the regression line. We can look at residual Vs fitted value scatter plot. If heteroscedastic plot would exhibit a funnel shape pattern."
   ]
  },
  {
   "cell_type": "markdown",
   "metadata": {},
   "source": [
    "<b><i>In the regression model, the output variable, which has to be predicted, should be a continuous variable, such as predicting the insurance charges for a particular person.</i> </b> \n",
    "\n"
   ]
  },
  {
   "cell_type": "markdown",
   "metadata": {},
   "source": [
    "<font color=\"blue\">\n",
    "\n",
    "In the later sections we will check for all these assumptions\n",
    "</font>"
   ]
  },
  {
   "cell_type": "markdown",
   "metadata": {},
   "source": [
    "## Loading the  required libraries and data"
   ]
  },
  {
   "cell_type": "code",
   "execution_count": 7,
   "metadata": {},
   "outputs": [],
   "source": [
    "## Logger\n",
    "\n",
    "import logging\n",
    "logging.basicConfig(\n",
    "    level=logging.DEBUG,\n",
    "    datefmt='%Y%m%d_%H%M%S',\n",
    "    \n",
    "    #Format for jupyter notebooks\n",
    "    format=\"%(asctime)s - %(levelname)s - %(message)s\",\n",
    "    \n",
    "    # Format for python scripts\n",
    "    # format=\"%(asctime)s %(threadName)s %(name)s - %(levelname)s - %(message)s\", #For scripts\n",
    "    # filename=log_file, #For writing to files. Leave commented out if logs need to be printed to stream\n",
    "    # filemode=filemode_val, #append or write.\n",
    ")\n",
    "log = logging.getLogger() #Use the log variable to print outputs"
   ]
  },
  {
   "cell_type": "code",
   "execution_count": 8,
   "metadata": {},
   "outputs": [],
   "source": [
    "import pandas as pd\n",
    "\n",
    "#pd.set_option(\"plotting.backend\", \"plotly\")\n",
    "pd.set_option(\"display.max_rows\", 500)\n",
    "pd.set_option(\"display.max_columns\", 500)\n",
    "pd.set_option(\"display.width\", 1000)\n",
    "pd.set_option(\"display.max_colwidth\", 100)\n",
    "pd.set_option(\"display.precision\", 3)\n",
    "\n",
    "## Get datetime suffix for files\n",
    "\n",
    "from datetime import date\n",
    "get_date_yyyymmdd = lambda: date.today().strftime('%Y%m%d')"
   ]
  },
  {
   "cell_type": "code",
   "execution_count": 9,
   "metadata": {},
   "outputs": [],
   "source": [
    "# Plotly\n",
    "\n",
    "import plotly.io as pio\n",
    "import plotly.graph_objs as go\n",
    "\n",
    "# Define Plotly template\n",
    "def get_custom_template():\n",
    "    template = go.layout.Template(\n",
    "        layout_annotations=[\n",
    "            dict(\n",
    "                textangle=-30,\n",
    "                opacity=0.1,\n",
    "                font=dict(color=\"black\", size=100),\n",
    "                xref=\"paper\",\n",
    "                yref=\"paper\",\n",
    "                x=0.5,\n",
    "                y=0.5,\n",
    "                showarrow=True,\n",
    "                arrowhead=8,\n",
    "            )\n",
    "        ],\n",
    "        layout_coloraxis=dict(\n",
    "            colorbar=dict(outlinewidth=110, tickcolor=\"black\", outlinecolor=\"yellow\")\n",
    "        ),\n",
    "        layout_annotationdefaults=dict(font=dict(color=\"#ff0000\")),\n",
    "        layout_title=dict(\n",
    "            x=0.5, y=0.9, font=dict(family=\"Segoe UI\", color=\"#000000\", size=30)\n",
    "        ),\n",
    "        layout_font=dict(color=\"#2a3f5f\"),\n",
    "        layout_plot_bgcolor=\"white\",\n",
    "        layout_xaxis=dict(\n",
    "            tickmode=\"auto\",\n",
    "            automargin=True,\n",
    "            gridcolor=\"#F3F3F3\",\n",
    "            linecolor=\"#F3F3F3\",\n",
    "            ticks=\"\",\n",
    "            title=dict(\n",
    "                font=dict(family=\"Segoe UI\", color=\"#44546a\", size=20), standoff=15\n",
    "            ),\n",
    "            zerolinecolor=\"Black\",\n",
    "            zerolinewidth=1,\n",
    "        ),\n",
    "        layout_yaxis=dict(\n",
    "            tickmode=\"auto\",\n",
    "            automargin=True,\n",
    "            gridcolor=\"#F3F3F3\",\n",
    "            linecolor=\"#F3F3F3\",\n",
    "            ticks=\"\",\n",
    "            title=dict(\n",
    "                font=dict(family=\"Segoe UI\", color=\"#44546a\", size=20), standoff=15\n",
    "            ),\n",
    "            zerolinecolor=\"Black\",\n",
    "            zerolinewidth=1,\n",
    "        ),\n",
    "        layout_scene=dict(\n",
    "            xaxis=dict(\n",
    "                backgroundcolor=\"#1a00d9\",\n",
    "                gridcolor=\"#DFE8F3\",\n",
    "                gridwidth=2,\n",
    "                linecolor=\"#EBF0F8\",\n",
    "                showbackground=True,\n",
    "                ticks=\"\",\n",
    "                zerolinecolor=\"#EBF0F8\",\n",
    "            ),\n",
    "            yaxis=dict(\n",
    "                backgroundcolor=\"#1a00d9\",\n",
    "                gridcolor=\"#DFE8F3\",\n",
    "                gridwidth=2,\n",
    "                linecolor=\"#EBF0F8\",\n",
    "                showbackground=True,\n",
    "                ticks=\"\",\n",
    "                zerolinecolor=\"#EBF0F8\",\n",
    "            ),\n",
    "            zaxis=dict(\n",
    "                backgroundcolor=\"#1a00d9\",\n",
    "                gridcolor=\"#DFE8F3\",\n",
    "                gridwidth=2,\n",
    "                linecolor=\"#EBF0F8\",\n",
    "                showbackground=True,\n",
    "                ticks=\"\",\n",
    "                zerolinecolor=\"#EBF0F8\",\n",
    "            ),\n",
    "        ),\n",
    "        layout_mapbox=dict(style=\"carto-darkmatter\"),\n",
    "        layout_colorway=[\n",
    "            \"#1a00d9\",\n",
    "            \"#fe6e06\",\n",
    "            \"#ffab31\",\n",
    "            \"#ff0000\",\n",
    "            \"#dbeaff\",\n",
    "            \"#44546a\",\n",
    "        ],\n",
    "        layout_legend=dict(\n",
    "            x=1,\n",
    "            traceorder=\"reversed\",\n",
    "            font=dict(family=\"Segoe UI\", size=12, color=\"black\"),\n",
    "            bgcolor=\"#EBF0F8\",\n",
    "            bordercolor=\"Black\",\n",
    "            borderwidth=2,\n",
    "        ),\n",
    "        layout_colorscale=dict(\n",
    "            diverging=[\n",
    "                [0, \"#8e0152\"],\n",
    "                [0.1, \"#c51b7d\"],\n",
    "                [0.2, \"#de77ae\"],\n",
    "                [0.3, \"#f1b6da\"],\n",
    "                [0.4, \"#fde0ef\"],\n",
    "                [0.5, \"#f7f7f7\"],\n",
    "                [0.6, \"#e6f5d0\"],\n",
    "                [0.7, \"#b8e186\"],\n",
    "                [0.8, \"#7fbc41\"],\n",
    "                [0.9, \"#4d9221\"],\n",
    "                [1, \"#276419\"],\n",
    "            ],\n",
    "            sequential=[\n",
    "                [0.0, \"#0d0887\"],\n",
    "                [0.1111111111111111, \"#46039f\"],\n",
    "                [0.2222222222222222, \"#7201a8\"],\n",
    "                [0.3333333333333333, \"#9c179e\"],\n",
    "                [0.4444444444444444, \"#bd3786\"],\n",
    "                [0.5555555555555556, \"#d8576b\"],\n",
    "                [0.6666666666666666, \"#ed7953\"],\n",
    "                [0.7777777777777778, \"#fb9f3a\"],\n",
    "                [0.8888888888888888, \"#fdca26\"],\n",
    "                [1.0, \"#f0f921\"],\n",
    "            ],\n",
    "            sequentialminus=[\n",
    "                [0.0, \"#0d0887\"],\n",
    "                [0.1111111111111111, \"#46039f\"],\n",
    "                [0.2222222222222222, \"#7201a8\"],\n",
    "                [0.3333333333333333, \"#9c179e\"],\n",
    "                [0.4444444444444444, \"#bd3786\"],\n",
    "                [0.5555555555555556, \"#d8576b\"],\n",
    "                [0.6666666666666666, \"#ed7953\"],\n",
    "                [0.7777777777777778, \"#fb9f3a\"],\n",
    "                [0.8888888888888888, \"#fdca26\"],\n",
    "                [1.0, \"#f0f921\"],\n",
    "            ],\n",
    "        ),\n",
    "        layout_hoverlabel=dict(\n",
    "            align=\"left\", bgcolor=\"white\", font_size=16, font_family=\"Segoe UI\"\n",
    "        ),\n",
    "        layout_hovermode=\"closest\",\n",
    "    )\n",
    "    return template\n",
    "\n",
    "\n",
    "pio.templates[\"ganit\"] = get_custom_template()\n",
    "# plotly_template = pio.templates[\"ganit\"] #Use as a parameter in each plot call (template=plotly_template)\n",
    "pio.templates.default = \"ganit\"  # Set default theme across all plots\n"
   ]
  },
  {
   "cell_type": "code",
   "execution_count": null,
   "metadata": {},
   "outputs": [],
   "source": []
  },
  {
   "cell_type": "code",
   "execution_count": 22,
   "metadata": {},
   "outputs": [],
   "source": [
    "import numpy as np\n",
    "import pandas as pd\n",
    "import matplotlib.pyplot as plt\n",
    "import seaborn as sns\n",
    "from tqdm import tqdm\n",
    "import random as random\n",
    "from sklearn.datasets import load_boston\n",
    "boston = load_boston()\n",
    "X = boston.data\n",
    "Y = boston.target"
   ]
  },
  {
   "cell_type": "code",
   "execution_count": 23,
   "metadata": {},
   "outputs": [
    {
     "data": {
      "text/plain": [
       "(506, 13)"
      ]
     },
     "execution_count": 23,
     "metadata": {},
     "output_type": "execute_result"
    }
   ],
   "source": [
    "X.shape"
   ]
  },
  {
   "cell_type": "code",
   "execution_count": 24,
   "metadata": {},
   "outputs": [
    {
     "data": {
      "text/plain": [
       "array([[6.3200e-03, 1.8000e+01, 2.3100e+00, ..., 1.5300e+01, 3.9690e+02,\n",
       "        4.9800e+00],\n",
       "       [2.7310e-02, 0.0000e+00, 7.0700e+00, ..., 1.7800e+01, 3.9690e+02,\n",
       "        9.1400e+00],\n",
       "       [2.7290e-02, 0.0000e+00, 7.0700e+00, ..., 1.7800e+01, 3.9283e+02,\n",
       "        4.0300e+00],\n",
       "       ...,\n",
       "       [6.0760e-02, 0.0000e+00, 1.1930e+01, ..., 2.1000e+01, 3.9690e+02,\n",
       "        5.6400e+00],\n",
       "       [1.0959e-01, 0.0000e+00, 1.1930e+01, ..., 2.1000e+01, 3.9345e+02,\n",
       "        6.4800e+00],\n",
       "       [4.7410e-02, 0.0000e+00, 1.1930e+01, ..., 2.1000e+01, 3.9690e+02,\n",
       "        7.8800e+00]])"
      ]
     },
     "execution_count": 24,
     "metadata": {},
     "output_type": "execute_result"
    }
   ],
   "source": [
    "X"
   ]
  },
  {
   "cell_type": "code",
   "execution_count": 26,
   "metadata": {},
   "outputs": [
    {
     "data": {
      "text/plain": [
       "array([[6.3200e-03, 2.3100e+00],\n",
       "       [2.7310e-02, 7.0700e+00],\n",
       "       [2.7290e-02, 7.0700e+00],\n",
       "       ...,\n",
       "       [6.0760e-02, 1.1930e+01],\n",
       "       [1.0959e-01, 1.1930e+01],\n",
       "       [4.7410e-02, 1.1930e+01]])"
      ]
     },
     "execution_count": 26,
     "metadata": {},
     "output_type": "execute_result"
    }
   ],
   "source": [
    "X=X[:,[0,2]]\n",
    "X# two independent variables"
   ]
  },
  {
   "cell_type": "code",
   "execution_count": 28,
   "metadata": {},
   "outputs": [
    {
     "data": {
      "image/png": "[encoded data removed]",
      "text/plain": [
       "<Figure size 432x288 with 1 Axes>"
      ]
     },
     "metadata": {
      "needs_background": "light"
     },
     "output_type": "display_data"
    }
   ],
   "source": [
    "##Plots\n",
    "X1 =X[:, 0]\n",
    "plt.scatter(X1, Y)\n",
    "plt.show()"
   ]
  },
  {
   "cell_type": "code",
   "execution_count": 29,
   "metadata": {},
   "outputs": [
    {
     "data": {
      "text/plain": [
       "506"
      ]
     },
     "execution_count": 29,
     "metadata": {},
     "output_type": "execute_result"
    }
   ],
   "source": [
    "len(X1)"
   ]
  },
  {
   "cell_type": "code",
   "execution_count": 27,
   "metadata": {},
   "outputs": [
    {
     "data": {
      "text/plain": [
       "506"
      ]
     },
     "execution_count": 27,
     "metadata": {},
     "output_type": "execute_result"
    }
   ],
   "source": [
    "len(Y)"
   ]
  },
  {
   "cell_type": "code",
   "execution_count": 30,
   "metadata": {},
   "outputs": [
    {
     "data": {
      "image/png": "[encoded data removed]",
      "text/plain": [
       "<Figure size 432x288 with 1 Axes>"
      ]
     },
     "metadata": {
      "needs_background": "light"
     },
     "output_type": "display_data"
    }
   ],
   "source": [
    "##Plots\n",
    "X2 =X[:, 1]\n",
    "plt.scatter(X2, Y)\n",
    "plt.show()"
   ]
  },
  {
   "cell_type": "code",
   "execution_count": 31,
   "metadata": {},
   "outputs": [
    {
     "data": {
      "text/plain": [
       "array([[-0.41978194, -1.2879095 ],\n",
       "       [-0.41733926, -0.59338101],\n",
       "       [-0.41734159, -0.59338101],\n",
       "       ...,\n",
       "       [-0.41344658,  0.11573841],\n",
       "       [-0.40776407,  0.11573841],\n",
       "       [-0.41500016,  0.11573841]])"
      ]
     },
     "execution_count": 31,
     "metadata": {},
     "output_type": "execute_result"
    }
   ],
   "source": [
    "from sklearn.preprocessing import StandardScaler\n",
    "sc=StandardScaler()\n",
    "X_transform=sc.fit_transform(X)\n",
    "X_transform"
   ]
  },
  {
   "cell_type": "code",
   "execution_count": 32,
   "metadata": {},
   "outputs": [],
   "source": [
    "'''def predicted_y(weight,x,intercept):\n",
    "    return weight@x+intercept\n",
    "    \n",
    "\n",
    "# linear loss\n",
    "def loss(y,y_predicted):\n",
    "    n=X.shape[0]\n",
    "    s=(y-y_predicted)**2\n",
    "    return (1/n)*s\n",
    "\n",
    "#derivative of loss w.r.t weight\n",
    "def dldw(x,y,y_predicted):\n",
    "    n=X.shape[0]\n",
    "    s=-x*(y-y_predicted)\n",
    "    return (2/n)*s\n",
    "    \n",
    "\n",
    "# derivative of loss w.r.t bias\n",
    "def dldb(y,y_predicted):\n",
    "    n=X.shape[0]\n",
    "    s=-(y-y_predicted)\n",
    "    return (2/n) * s\n",
    "   \n",
    "\n",
    "   \n",
    "        \n",
    "        \n",
    "# gradient function\n",
    "def gradient_descent(x,y):\n",
    "    weight_vector=np.random.randn(x.shape[1])\n",
    "    intercept=0\n",
    "    epoch = 2000\n",
    "    n = len(x)\n",
    "    linear_loss=[]\n",
    "    learning_rate = 0.001\n",
    "    \n",
    "    for i in tqdm(range(epoch)):\n",
    "        \n",
    "        for j in range(n):\n",
    "            random_index = random.randint(0,n-1)\n",
    "            x_sample = x[random_index]\n",
    "            y_sample = y[random_index]\n",
    "            y_predicted = predicted_y(weight_vector,x_sample,intercept)\n",
    "            # updation of weight and bias for every records\n",
    "            weight_vector = weight_vector - learning_rate *dldw(x_sample,y_sample,y_predicted) \n",
    "            intercept = intercept - learning_rate * dldb(y_sample,y_predicted)\n",
    "        linear_loss.append(loss(y_sample,y_predicted))    \n",
    "        \n",
    "        \n",
    "    plt.plot(np.arange(1,epoch),linear_loss[1:])\n",
    "    plt.xlabel(\"number of epoch\")\n",
    "    plt.ylabel(\"loss\")\n",
    "    \n",
    "    return weight_vector,intercept,'''"
   ]
  },
  {
   "cell_type": "code",
   "execution_count": null,
   "metadata": {},
   "outputs": [],
   "source": [
    "## Try animation here"
   ]
  },
  {
   "cell_type": "code",
   "execution_count": 33,
   "metadata": {},
   "outputs": [
    {
     "name": "stderr",
     "output_type": "stream",
     "text": [
      "100%|█████████████████████████████████████████████████████████████████████████████| 2000/2000 [00:05<00:00, 334.17it/s]\n"
     ]
    },
    {
     "data": {
      "image/png": "[encoded data removed]",
      "text/plain": [
       "<Figure size 432x288 with 1 Axes>"
      ]
     },
     "metadata": {
      "needs_background": "light"
     },
     "output_type": "display_data"
    }
   ],
   "source": [
    "'''w,b=gradient_descent(X_transform,Y)\n",
    "'''"
   ]
  },
  {
   "cell_type": "code",
   "execution_count": 45,
   "metadata": {},
   "outputs": [],
   "source": [
    "def predicted_y(weight,x,intercept):\n",
    "    y_lst=[]\n",
    "    for i in range(len(x)):\n",
    "        y_lst.append(weight@x[i]+intercept)\n",
    "    return np.array(y_lst)\n",
    "    \n",
    "\n",
    "# linear loss\n",
    "def loss(y,y_predicted):\n",
    "    n=len(y)\n",
    "    s=0\n",
    "    for i in range(n):\n",
    "        s+=(y[i]-y_predicted[i])**2\n",
    "    return (1/n)*s\n",
    "\n",
    "#derivative of loss w.r.t weight\n",
    "def dldw(x,y,y_predicted):\n",
    "    s=0\n",
    "    n=len(y)\n",
    "    for i in range(n):\n",
    "        s+=-x[i]*(y[i]-y_predicted[i])\n",
    "    return (2/n)*s\n",
    "    \n",
    "\n",
    "# derivative of loss w.r.t bias\n",
    "def dldb(y,y_predicted):\n",
    "    n=len(y)\n",
    "    s=0\n",
    "    for i in range(len(y)):\n",
    "        s+=-(y[i]-y_predicted[i])\n",
    "    return (2/n) * s\n",
    "   \n",
    "\n",
    "   \n",
    "        \n",
    "        \n",
    "# gradient function\n",
    "def gradient_descent(x,y):\n",
    "    weight_vector=np.random.randn(x.shape[1])\n",
    "    intercept=0\n",
    "    epoch = 2000\n",
    "    n = len(x)\n",
    "    linear_loss=[]\n",
    "    learning_rate = 0.001\n",
    "\n",
    "    for i in range(epoch):\n",
    "        \n",
    "        y_predicted = predicted_y(weight_vector,x,intercept)\n",
    "        # updation of weight and bias for every records\n",
    "\n",
    "        weight_vector = weight_vector - learning_rate *dldw(x,y,y_predicted) \n",
    "        intercept = intercept - learning_rate * dldb(y,y_predicted)\n",
    "        linear_loss.append(loss(y,y_predicted))\n",
    "        \n",
    "    plt.plot(np.arange(1,epoch),linear_loss[1:])\n",
    "    plt.xlabel(\"number of epoch\")\n",
    "    plt.ylabel(\"loss\")\n",
    "    \n",
    "    return weight_vector,intercept"
   ]
  },
  {
   "cell_type": "code",
   "execution_count": 46,
   "metadata": {},
   "outputs": [
    {
     "data": {
      "image/png": "[encoded data removed]",
      "text/plain": [
       "<Figure size 432x288 with 1 Axes>"
      ]
     },
     "metadata": {
      "needs_background": "light"
     },
     "output_type": "display_data"
    }
   ],
   "source": [
    "w,b=gradient_descent(X_transform,Y)\n"
   ]
  },
  {
   "cell_type": "code",
   "execution_count": 44,
   "metadata": {},
   "outputs": [
    {
     "name": "stdout",
     "output_type": "stream",
     "text": [
      "weight: [-2.23648679 -3.44932182]\n",
      "bias: 22.121753289661854\n"
     ]
    }
   ],
   "source": [
    "print(\"weight:\",w)\n",
    "print(\"bias:\",b)"
   ]
  },
  {
   "cell_type": "code",
   "execution_count": 34,
   "metadata": {},
   "outputs": [
    {
     "name": "stdout",
     "output_type": "stream",
     "text": [
      "weight: [-2.08676347 -3.56332368]\n",
      "bias: 22.10270789415578\n"
     ]
    }
   ],
   "source": [
    "'''print(\"weight:\",w)\n",
    "print(\"bias:\",b)'''"
   ]
  },
  {
   "cell_type": "markdown",
   "metadata": {},
   "source": [
    "# pred"
   ]
  },
  {
   "cell_type": "code",
   "execution_count": 36,
   "metadata": {},
   "outputs": [
    {
     "data": {
      "text/plain": [
       "array([27.56793193, 25.08800484, 25.0880097 , 27.62919575, 27.62028825,\n",
       "       27.62980771, 24.65725847, 24.6435961 , 24.62740087, 24.63740602,\n",
       "       24.62408606, 24.6501723 , 24.65592526, 24.38538705, 24.38339573,\n",
       "       24.38596259, 24.28238016, 24.34788231, 24.34338728, 24.36206437,\n",
       "       24.23433116, 24.33140781, 24.23902289, 24.2982864 , 24.35612442,\n",
       "       24.33420051, 24.3751512 , 24.30621767, 24.35060459, 24.29488174,\n",
       "       24.26371036, 24.20933529, 24.20125589, 24.2586325 , 24.1466574 ,\n",
       "       25.65616731, 25.64808791, 25.6522891 , 25.62924083, 27.23000671,\n",
       "       27.22855936, 25.14687649, 25.14346211, 25.13912493, 25.14802999,\n",
       "       25.13619624, 25.13208247, 25.12214774, 25.1161738 , 25.12445476,\n",
       "       25.81657819, 25.82759356, 25.82510927, 25.82602965, 26.68749546,\n",
       "       28.13299825, 28.38075416, 28.08071219, 26.06577885, 26.07820515,\n",
       "       26.06702464, 26.06158738, 26.07650767, 26.07256633, 28.04825649,\n",
       "       27.00964563, 27.00771502, 25.60050092, 25.58164413, 25.58343631,\n",
       "       23.12869441, 23.11157395, 23.1278736 , 23.10267859, 22.08070995,\n",
       "       22.0767856 , 22.07522898, 22.07874049, 22.08617393, 22.07951759,\n",
       "       26.23367687, 26.23282935, 26.23477938, 26.23504165, 26.42375079,\n",
       "       26.42210917, 26.42343753, 26.41867051, 26.98380731, 26.98467669,\n",
       "       26.98617746, 26.98800365, 20.94065004, 20.943875  , 20.94042905,\n",
       "       27.2382752 , 27.2399751 , 27.23856904, 27.24803022, 27.25125275,\n",
       "       24.28385168, 24.29219092, 24.26439992, 24.26856468, 24.28605184,\n",
       "       24.28774688, 24.27837799, 24.28809901, 24.28886396, 24.25593197,\n",
       "       24.29374269, 23.54157722, 23.53612538, 23.51212517, 23.5315065 ,\n",
       "       23.52445676, 23.53411221, 23.52940105, 23.53435506, 23.53091154,\n",
       "       15.41772815, 15.41708218, 15.41189991, 15.39796312, 15.41056427,\n",
       "       15.39343652, 15.34041652, 17.32645662, 17.31036096, 17.17538373,\n",
       "       17.30680816, 17.09969187, 17.24609973, 17.30929488, 17.15233304,\n",
       "       17.25393629, 17.31103849, 17.30382847, 17.32872721, 17.2571564 ,\n",
       "       17.31874634, 16.993885  , 17.78391472, 17.59538324, 17.91536829,\n",
       "       18.01260279, 18.06707014, 18.01520607, 18.02434427, 17.92648323,\n",
       "       18.18811544, 18.22703838, 18.3168273 , 18.06849563, 18.24706568,\n",
       "       17.73195595, 17.99624972, 18.29327149, 18.26430999, 18.24435312,\n",
       "       18.28115846, 18.2350425 , 18.14509087, 18.22152584, 18.04586748,\n",
       "       17.8803357 , 18.10224844, 18.1532237 , 18.03177285, 17.99555761,\n",
       "       18.29719584, 18.02849447, 26.63101279, 26.64251385, 26.64428904,\n",
       "       26.64861894, 26.64774956, 26.65162777, 26.64867236, 27.47744201,\n",
       "       27.47547984, 27.47475131, 27.46937233, 27.4671746 , 27.47130293,\n",
       "       27.47679362, 27.47787428, 26.96283066, 26.95140731, 26.96162859,\n",
       "       26.95993354, 26.96517167, 26.96091463, 27.24180393, 27.2436204 ,\n",
       "       28.52796915, 27.97046481, 27.96887418, 27.97105492, 27.9985518 ,\n",
       "       28.00188361, 27.70667897, 27.70975822, 27.36857167, 27.37221675,\n",
       "       23.23138196, 23.20873195, 23.20331655, 23.23151552, 23.15870135,\n",
       "       23.2221442 , 23.17325496, 23.2117675 , 23.2303863 , 23.19419535,\n",
       "       23.2164228 , 21.53769365, 21.5317367 , 21.52188697, 21.52102245,\n",
       "       25.46000944, 25.44795955, 25.3955418 , 25.39769339, 25.47039342,\n",
       "       25.41900776, 25.45416905, 25.44682547, 25.47455576, 25.43968587,\n",
       "       25.41656232, 25.43454245, 25.40726385, 25.46647393, 25.43819724,\n",
       "       25.46672163, 25.42054981, 25.42267469, 26.18725045, 26.18480259,\n",
       "       26.17975873, 26.18149992, 26.18228188, 26.17629093, 25.67369762,\n",
       "       25.67727956, 25.64121732, 25.67600706, 25.68382176, 25.67742527,\n",
       "       25.68967186, 25.67175245, 25.70377863, 25.63414814, 26.86626751,\n",
       "       26.86935405, 26.81704376, 26.55788734, 26.54526677, 26.54693268,\n",
       "       26.57523365, 26.57668828, 26.58008323, 26.50598685, 26.57281493,\n",
       "       26.5214414 , 26.51559373, 26.56594974, 26.57513894, 25.12981459,\n",
       "       25.07917931, 25.112461  , 25.12399849, 25.09794625, 25.42407948,\n",
       "       25.41446289, 25.41236229, 25.42290655, 25.41841152, 26.98805663,\n",
       "       27.03045709, 27.03014868, 27.02426215, 28.13773607, 27.22411787,\n",
       "       27.59800047, 27.85065205, 25.99510033, 25.99335428, 25.99406581,\n",
       "       26.18836764, 26.17772139, 26.18809323, 21.51309863, 21.51325891,\n",
       "       21.50176513, 21.52012409, 21.49892143, 27.590159  , 27.59235673,\n",
       "       27.59513486, 25.59557131, 25.58165881, 25.57987634, 27.62366377,\n",
       "       27.6237512 , 27.61883605, 27.62507955, 23.50354005, 23.53840751,\n",
       "       22.98324804, 23.43131113, 23.5597073 , 23.55783984, 23.53359921,\n",
       "       23.56168162, 23.54596722, 23.56370693, 23.52562909, 23.50779224,\n",
       "       24.89276045, 24.88936307, 24.84818897, 24.8645129 , 24.85062955,\n",
       "       24.88686907, 24.85976532, 24.87492846, 27.06987008, 27.06961024,\n",
       "       27.07490422, 25.60756032, 25.61134139, 26.05974695, 26.0630132 ,\n",
       "       26.06247166, 26.06376844, 26.06470582, 26.06406228, 26.05874158,\n",
       "       26.05715339, 27.97704586, 27.7817678 , 26.79900552, 26.79777673,\n",
       "       26.48046875, 26.47306445, 26.60826863, 27.72179829, 28.11354423,\n",
       "       28.10550125, 27.87251243, 27.8742269 , 27.71609395, 27.76699089,\n",
       "       27.75155091, 17.17844208, 18.42502045, 18.09667916, 18.32506368,\n",
       "       18.25691939, 18.42814342, 18.46666324, 18.33451514, 18.51618872,\n",
       "       18.25353172, 18.46211478, 16.07611756, 18.17039428, 17.98297745,\n",
       "       17.77199995, 17.11789151, 17.35224754, 16.66236584, 14.86772875,\n",
       "       14.597954  , 15.64730467, 16.97432491, 13.61708518, 15.02108436,\n",
       "       -2.24738916, 15.50490129, 17.12888746, 17.41897363, 14.48240911,\n",
       "       15.27725988, 13.43602114, 13.87233789, 15.87905013, 17.38029838,\n",
       "       17.66918248, 18.07451241, 16.548278  , 17.26057173, 16.11555533,\n",
       "       17.24308943, 17.93390608, 17.49679523, 10.04641281, 16.9517259 ,\n",
       "       13.27761438, 15.90272737, 17.02963978, 13.33696531,  9.27480215,\n",
       "        2.86577599, 14.32910206, 16.45764884, 17.56190883, 15.85364871,\n",
       "        6.94190264, 15.94777482, 14.79176733, 12.40102252,  8.25075577,\n",
       "       14.96816878, 16.72888065, 13.06039095,  1.50262307, 16.49135551,\n",
       "       16.6673927 , 17.65450502, 16.43406875, 17.64774669, 17.22478632,\n",
       "       15.50832538, 16.38574291, 10.21395048, 17.57084061, 17.09200683,\n",
       "       17.29763692, 16.91633148, 17.79499965, 18.00456866, 15.98111722,\n",
       "       16.64966513, 15.85789847, 15.67421172, 16.03825827, 17.07944211,\n",
       "       14.00493039, 16.99844169, 17.98385411, 16.93958616, 16.25094053,\n",
       "       16.76831842, 17.83287836, 16.9497103 , 17.09438669, 17.53225279,\n",
       "       17.72854069, 18.03854973, 18.12378049, 17.35690042, 17.04957237,\n",
       "       18.20581299, 18.22610013, 17.36843791, 17.47731676, 17.70827541,\n",
       "       18.19130067, 18.4630473 , 17.74379126, 17.94626681, 17.45616752,\n",
       "       18.59163532, 18.44316571, 18.28597317, 15.57743862, 16.18469285,\n",
       "       18.30381973, 18.37919347, 18.49326431, 18.23142811, 17.40359921,\n",
       "       17.80736766, 18.17690491, 15.71156103, 16.87487811, 15.87905013,\n",
       "       17.94557228, 17.97370083, 17.96812029, 18.67546972, 18.78227468,\n",
       "       18.46776818, 17.97769075, 18.18558413, 14.3112091 , 14.30331426,\n",
       "       14.29746417, 14.3221662 , 14.32081113, 23.69035347, 23.66454893,\n",
       "       23.68897412, 23.66211321, 23.66726635, 23.67437194, 23.68925582,\n",
       "       23.67795146, 22.55260559, 22.55682135, 22.55305971, 22.54120166,\n",
       "       22.55630167])"
      ]
     },
     "execution_count": 36,
     "metadata": {},
     "output_type": "execute_result"
    }
   ],
   "source": [
    "def predict(inp):\n",
    "    y_lst=[]\n",
    "    for i in range(len(inp)):\n",
    "        y_lst.append(w@inp[i]+b)\n",
    "    return np.array(y_lst)\n",
    "y_pred=predict(X_transform)\n",
    "y_pred"
   ]
  },
  {
   "cell_type": "code",
   "execution_count": 37,
   "metadata": {},
   "outputs": [
    {
     "data": {
      "text/html": [
       "<div>\n",
       "<style scoped>\n",
       "    .dataframe tbody tr th:only-of-type {\n",
       "        vertical-align: middle;\n",
       "    }\n",
       "\n",
       "    .dataframe tbody tr th {\n",
       "        vertical-align: top;\n",
       "    }\n",
       "\n",
       "    .dataframe thead th {\n",
       "        text-align: right;\n",
       "    }\n",
       "</style>\n",
       "<table border=\"1\" class=\"dataframe\">\n",
       "  <thead>\n",
       "    <tr style=\"text-align: right;\">\n",
       "      <th></th>\n",
       "      <th>y_actual</th>\n",
       "      <th>y_predicted</th>\n",
       "    </tr>\n",
       "  </thead>\n",
       "  <tbody>\n",
       "    <tr>\n",
       "      <th>0</th>\n",
       "      <td>24.0</td>\n",
       "      <td>27.6</td>\n",
       "    </tr>\n",
       "    <tr>\n",
       "      <th>1</th>\n",
       "      <td>21.6</td>\n",
       "      <td>25.1</td>\n",
       "    </tr>\n",
       "    <tr>\n",
       "      <th>2</th>\n",
       "      <td>34.7</td>\n",
       "      <td>25.1</td>\n",
       "    </tr>\n",
       "    <tr>\n",
       "      <th>3</th>\n",
       "      <td>33.4</td>\n",
       "      <td>27.6</td>\n",
       "    </tr>\n",
       "    <tr>\n",
       "      <th>4</th>\n",
       "      <td>36.2</td>\n",
       "      <td>27.6</td>\n",
       "    </tr>\n",
       "    <tr>\n",
       "      <th>...</th>\n",
       "      <td>...</td>\n",
       "      <td>...</td>\n",
       "    </tr>\n",
       "    <tr>\n",
       "      <th>501</th>\n",
       "      <td>22.4</td>\n",
       "      <td>22.6</td>\n",
       "    </tr>\n",
       "    <tr>\n",
       "      <th>502</th>\n",
       "      <td>20.6</td>\n",
       "      <td>22.6</td>\n",
       "    </tr>\n",
       "    <tr>\n",
       "      <th>503</th>\n",
       "      <td>23.9</td>\n",
       "      <td>22.6</td>\n",
       "    </tr>\n",
       "    <tr>\n",
       "      <th>504</th>\n",
       "      <td>22.0</td>\n",
       "      <td>22.5</td>\n",
       "    </tr>\n",
       "    <tr>\n",
       "      <th>505</th>\n",
       "      <td>11.9</td>\n",
       "      <td>22.6</td>\n",
       "    </tr>\n",
       "  </tbody>\n",
       "</table>\n",
       "<p>506 rows × 2 columns</p>\n",
       "</div>"
      ],
      "text/plain": [
       "     y_actual  y_predicted\n",
       "0        24.0         27.6\n",
       "1        21.6         25.1\n",
       "2        34.7         25.1\n",
       "3        33.4         27.6\n",
       "4        36.2         27.6\n",
       "..        ...          ...\n",
       "501      22.4         22.6\n",
       "502      20.6         22.6\n",
       "503      23.9         22.6\n",
       "504      22.0         22.5\n",
       "505      11.9         22.6\n",
       "\n",
       "[506 rows x 2 columns]"
      ]
     },
     "execution_count": 37,
     "metadata": {},
     "output_type": "execute_result"
    }
   ],
   "source": [
    "df_pred=pd.DataFrame()\n",
    "df_pred[\"y_actual\"]=Y\n",
    "df_pred[\"y_predicted\"]=np.round(y_pred,1)\n",
    "df_pred"
   ]
  },
  {
   "cell_type": "code",
   "execution_count": null,
   "metadata": {},
   "outputs": [],
   "source": []
  },
  {
   "cell_type": "code",
   "execution_count": null,
   "metadata": {},
   "outputs": [],
   "source": []
  },
  {
   "cell_type": "code",
   "execution_count": null,
   "metadata": {},
   "outputs": [],
   "source": []
  },
  {
   "cell_type": "markdown",
   "metadata": {},
   "source": [
    "# sklearn"
   ]
  },
  {
   "cell_type": "code",
   "execution_count": 38,
   "metadata": {},
   "outputs": [
    {
     "data": {
      "text/plain": [
       "SGDRegressor(alpha=0, eta0=0.001, learning_rate='constant')"
      ]
     },
     "execution_count": 38,
     "metadata": {},
     "output_type": "execute_result"
    }
   ],
   "source": [
    "\n",
    "from sklearn.linear_model import SGDRegressor\n",
    "model=SGDRegressor(alpha=0,learning_rate=\"constant\",eta0=0.001)\n",
    "model.fit(X_transform,Y)"
   ]
  },
  {
   "cell_type": "code",
   "execution_count": 39,
   "metadata": {},
   "outputs": [
    {
     "name": "stdout",
     "output_type": "stream",
     "text": [
      "[22.56246]\n",
      "[-2.08949518 -3.59435386]\n"
     ]
    }
   ],
   "source": [
    "print(model.intercept_)\n",
    "print(model.coef_)\n"
   ]
  },
  {
   "cell_type": "code",
   "execution_count": 40,
   "metadata": {},
   "outputs": [
    {
     "data": {
      "text/plain": [
       "array([-2.08676347, -3.56332368])"
      ]
     },
     "execution_count": 40,
     "metadata": {},
     "output_type": "execute_result"
    }
   ],
   "source": [
    "w"
   ]
  },
  {
   "cell_type": "code",
   "execution_count": 41,
   "metadata": {},
   "outputs": [
    {
     "data": {
      "text/plain": [
       "22.10270789415578"
      ]
     },
     "execution_count": 41,
     "metadata": {},
     "output_type": "execute_result"
    }
   ],
   "source": [
    "b"
   ]
  },
  {
   "cell_type": "code",
   "execution_count": null,
   "metadata": {},
   "outputs": [],
   "source": []
  }
 ],
 "metadata": {
  "kernelspec": {
   "display_name": "Python 3 (ipykernel)",
   "language": "python",
   "name": "python3"
  },
  "language_info": {
   "codemirror_mode": {
    "name": "ipython",
    "version": 3
   },
   "file_extension": ".py",
   "mimetype": "text/x-python",
   "name": "python",
   "nbconvert_exporter": "python",
   "pygments_lexer": "ipython3",
   "version": "3.9.12"
  },
  "toc": {
   "base_numbering": 1,
   "nav_menu": {},
   "number_sections": true,
   "sideBar": true,
   "skip_h1_title": false,
   "title_cell": "Table of Contents",
   "title_sidebar": "Contents",
   "toc_cell": false,
   "toc_position": {},
   "toc_section_display": true,
   "toc_window_display": false
  },
  "vscode": {
   "interpreter": {
    "hash": "0c83ef391991198bb404585d41f98c63070c7981a5f38f3fc06ee8c678d31e77"
   }
  }
 },
 "nbformat": 4,
 "nbformat_minor": 2
}
