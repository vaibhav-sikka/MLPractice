{
 "cells": [
  {
   "cell_type": "code",
   "execution_count": null,
   "metadata": {},
   "outputs": [],
   "source": []
  },
  {
   "cell_type": "code",
   "execution_count": null,
   "metadata": {},
   "outputs": [],
   "source": []
  },
  {
   "cell_type": "markdown",
   "metadata": {},
   "source": [
    "# Jupyter Notebook\n",
    "\n",
    "## Notebook headers:\n",
    "Logo and title:\n",
    "<div style=\"display:block\">\n",
    "    <div style=\"width: 14%; display: inline-block; text-align: left;\">\n",
    "        <img src=\"data:image/png;base64,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\" style=\"height:75px; margin-left:0px\" />\n",
    "    </div>\n",
    "    <div style=\"width: 70%; display: inline-block\">\n",
    "        <h5  style=\"color:#1A00D9; text-align: center; font-size:28px;\">Understanding LR using gradient descent</h5>\n",
    "        <div style=\"color:#226BD6; width: 90%; text-align: center; display: inline-block;\"><i>Author(s): </i> <strong>Vaibhav</strong> </div>\n",
    "    </div>\n",
    "    <div style=\"color:#226BD6; width: 15%; text-align: right; display: inline-block;\">\n",
    "        <div style=\"color:#226BD6; width: 100%; text-align: left; display: inline-block;\">\n",
    "            <i>Created : Sep 16th, 2022</i></br>\n",
    "            <i>Modified: Sep 16th, 2022</i>\n",
    "        </div>\n",
    "    </div>\n",
    "</div>"
   ]
  },
  {
   "cell_type": "markdown",
   "metadata": {},
   "source": [
    "<font color=\"#226BD6\">**Purpose:**</font>  \n",
    "<!-- Enter purpose below -->\n",
    "Underrstanding Multiple Linear Regression using Gradient Descent\n",
    "\n",
    "<font color=\"#226BD6\">**User Inputs:**</font>  \n",
    "- **PATH_DIR_DATA**: (variable) Folder containing ..\n",
    "- **PATH_OUTPUT_EXCEL**: (variable) Name of the output file "
   ]
  },
  {
   "cell_type": "markdown",
   "metadata": {},
   "source": [
    "## What is regression?"
   ]
  },
  {
   "cell_type": "markdown",
   "metadata": {},
   "source": [
    "Simple linear regression is a statistical technique for finding the existence\n",
    "of an association relationship between a dependent variable (aka\n",
    "response variable or outcome variable) and an independent variable (aka explanatory variable or predictor variable). Simple linear\n",
    "regression implies that there is only one independent variable in\n",
    "the model.\n",
    "\n",
    "\n",
    "\n",
    "However, in practical scenarios we have more than one independent variable which is a case of multiple linear regression\n",
    "$$\\begin{align}\n",
    "        Y&=\\theta_{0}+\\theta_{1}\\times X_{1} + \\theta_{2}\\times X_{2} + \\epsilon\n",
    "\\end{align}$$\n",
    "\n",
    "Regression searches for relationships among <b>variables</b>. For example, you can observe several employees of some company and try to understand how their salaries depend on their <b>features</b>, such as experience, education level, role, city of employment, and so on.\n",
    "\n",
    "This is a regression problem where data related to each employee represents one observation. The presumption is that the experience, education, role, and city are the independent features, while the salary depends on them.\n",
    "\n",
    "Similarly, you can try to establish the mathematical dependence of housing prices on area, number of bedrooms, distance to the city center, and so on.\n",
    "\n",
    "Generally, in regression analysis, you consider some phenomenon of interest and have a number of observations. Each observation has two or more features. Following the assumption that at least one of the features depends on the others, you try to establish a relation among them.\n",
    "\n",
    "<b><i>Our challenge today is to determine the value of m and c, such that the line corresponding to those values is the best fitting line or gives the minimum error..</i></b>\n",
    "\n"
   ]
  },
  {
   "cell_type": "markdown",
   "metadata": {},
   "source": [
    "## Why do we need regression "
   ]
  },
  {
   "cell_type": "markdown",
   "metadata": {},
   "source": [
    "Linear regression has two primary purposes—understanding the relationships between variables and forecasting.\n",
    "\n",
    "- The coefficients represent the estimated magnitude and direction (positive/negative) of the relationship between each independent variable and the dependent variable.\n",
    "- A linear regression equation allows you to predict the mean value of the dependent variable given values of the independent variables that you specify."
   ]
  },
  {
   "cell_type": "markdown",
   "metadata": {},
   "source": [
    "## How do we get the best params-  Gradient Descent"
   ]
  },
  {
   "cell_type": "markdown",
   "metadata": {},
   "source": [
    "Gradient descent is an iterative optimization algorithm to find the minimum of a function. Here that function is our Loss Function.`"
   ]
  },
  {
   "cell_type": "markdown",
   "metadata": {},
   "source": [
    "![gd](C:\\Users\\vaibhav.sikka\\Desktop\\ML_Practice\\Gradient_descent.jpeg)"
   ]
  },
  {
   "cell_type": "markdown",
   "metadata": {},
   "source": [
    "Imagine a valley and a person with no sense of direction who wants to get to the bottom of the valley. He goes down the slope and takes large steps when the slope is steep and small steps when the slope is less steep. He decides his next position based on his current position and stops when he gets to the bottom of the valley which was his goal.\n",
    "Let’s try applying gradient descent to m and c and approach it step by step:\n",
    "\n",
    "1. Initially let m = 0 and c = 0. Let L be our learning rate. This controls how much the value of m changes with each step. L could be a small value like 0.0001 for good accuracy.\n",
    "2. Calculate the partial derivative of the loss function with respect to m, and plug in the current values of x, y, m and c in it to obtain the derivative value D."
   ]
  },
  {
   "cell_type": "markdown",
   "metadata": {},
   "source": [
    "$$ D_{m}= 1/n \\sum_{i=0}^{n} 2(y_{i}-(mx_{i}+c))(-x_{i}) $$ \n",
    "\n",
    "$$ D_{m}= -2/n \\sum_{i=0}^{n} x_{i}(y_{i}-\\hat{y_{i}}) $$ "
   ]
  },
  {
   "cell_type": "markdown",
   "metadata": {},
   "source": [
    "Dₘ is the value of the partial derivative with respect to m. Similarly lets find the partial derivative with respect to c, Dc :"
   ]
  },
  {
   "cell_type": "markdown",
   "metadata": {},
   "source": [
    "$$ D_{c}= -2/n \\sum_{i=0}^{n} (y_{i}-\\hat{y_{i}}) $$ "
   ]
  },
  {
   "cell_type": "markdown",
   "metadata": {},
   "source": [
    "3. Now we update the current value of m and c using the following equation:"
   ]
  },
  {
   "cell_type": "markdown",
   "metadata": {},
   "source": [
    "$$ m=m-L \\times D_{m}$$\n",
    "$$ c=c-L \\times D_{c}$$"
   ]
  },
  {
   "cell_type": "markdown",
   "metadata": {},
   "source": [
    "4. We repeat this process until our loss function is a very small value or ideally 0 (which means 0 error or 100% accuracy). The value of m and c that we are left with now will be the optimum values"
   ]
  },
  {
   "cell_type": "markdown",
   "metadata": {},
   "source": [
    "Now going back to our analogy, m can be considered the current position of the person. D is equivalent to the steepness of the slope and L can be the speed with which he moves. Now the new value of m that we calculate using the above equation will be his next position, and L×D will be the size of the steps he will take. When the slope is more steep (D is more) he takes longer steps and when it is less steep (D is less), he takes smaller steps. Finally he arrives at the bottom of the valley which corresponds to our loss = 0.\n",
    "Now with the optimum value of m and c our model is ready to make predictions !"
   ]
  },
  {
   "cell_type": "markdown",
   "metadata": {},
   "source": [
    "## Model Assmptions"
   ]
  },
  {
   "cell_type": "markdown",
   "metadata": {},
   "source": [
    "We need to check few assumption of linear regression model. The common assumption for Linear Regression model are following\n",
    "\n",
    "- <b>Linear Relationship</b>: In linear regression the relationship between the dependent and independent variable to be linear. This can be checked by scatter ploting Actual value Vs Predicted value\n",
    "- The residual <b>error plot should be normally distributed.</b>\n",
    "- The mean of residual error should be 0 or close to 0 as much as possible\n",
    "- The linear regression require all variables to be multivariate normal.This assumption can best checked with Q-Q plot.\n",
    "- Linear regession assumes that there is <b>little or no Multicollinearity in the data</b>. Multicollinearity occurs when the independent variables are too highly correlated with each other. The variance inflation factor VIF* identifies correlation between independent variables and strength of that correlation.  VIF=11−R2 , If VIF >1 & VIF <5 moderate correlation, VIF < 5 critical level of multicollinearity.\n",
    "- <b>Homoscedasticity</b>: The data are homoscedastic meaning the residuals are equal across the regression line. We can look at residual Vs fitted value scatter plot. If heteroscedastic plot would exhibit a funnel shape pattern."
   ]
  },
  {
   "cell_type": "markdown",
   "metadata": {},
   "source": [
    "<b><i>In the regression model, the output variable, which has to be predicted, should be a continuous variable, such as predicting the insurance charges for a particular person.</i> </b> \n",
    "\n"
   ]
  },
  {
   "cell_type": "markdown",
   "metadata": {},
   "source": [
    "<font color=\"blue\">\n",
    "\n",
    "In the later sections we will check for all these assumptions\n",
    "</font>"
   ]
  },
  {
   "cell_type": "markdown",
   "metadata": {},
   "source": [
    "## Loading the  required libraries and data"
   ]
  },
  {
   "cell_type": "code",
   "execution_count": 7,
   "metadata": {},
   "outputs": [],
   "source": [
    "## Logger\n",
    "\n",
    "import logging\n",
    "logging.basicConfig(\n",
    "    level=logging.DEBUG,\n",
    "    datefmt='%Y%m%d_%H%M%S',\n",
    "    \n",
    "    #Format for jupyter notebooks\n",
    "    format=\"%(asctime)s - %(levelname)s - %(message)s\",\n",
    "    \n",
    "    # Format for python scripts\n",
    "    # format=\"%(asctime)s %(threadName)s %(name)s - %(levelname)s - %(message)s\", #For scripts\n",
    "    # filename=log_file, #For writing to files. Leave commented out if logs need to be printed to stream\n",
    "    # filemode=filemode_val, #append or write.\n",
    ")\n",
    "log = logging.getLogger() #Use the log variable to print outputs"
   ]
  },
  {
   "cell_type": "code",
   "execution_count": 8,
   "metadata": {},
   "outputs": [],
   "source": [
    "import pandas as pd\n",
    "\n",
    "#pd.set_option(\"plotting.backend\", \"plotly\")\n",
    "pd.set_option(\"display.max_rows\", 500)\n",
    "pd.set_option(\"display.max_columns\", 500)\n",
    "pd.set_option(\"display.width\", 1000)\n",
    "pd.set_option(\"display.max_colwidth\", 100)\n",
    "pd.set_option(\"display.precision\", 3)\n",
    "\n",
    "## Get datetime suffix for files\n",
    "\n",
    "from datetime import date\n",
    "get_date_yyyymmdd = lambda: date.today().strftime('%Y%m%d')"
   ]
  },
  {
   "cell_type": "code",
   "execution_count": 9,
   "metadata": {},
   "outputs": [],
   "source": [
    "# Plotly\n",
    "\n",
    "import plotly.io as pio\n",
    "import plotly.graph_objs as go\n",
    "\n",
    "# Define Plotly template\n",
    "def get_custom_template():\n",
    "    template = go.layout.Template(\n",
    "        layout_annotations=[\n",
    "            dict(\n",
    "                textangle=-30,\n",
    "                opacity=0.1,\n",
    "                font=dict(color=\"black\", size=100),\n",
    "                xref=\"paper\",\n",
    "                yref=\"paper\",\n",
    "                x=0.5,\n",
    "                y=0.5,\n",
    "                showarrow=True,\n",
    "                arrowhead=8,\n",
    "            )\n",
    "        ],\n",
    "        layout_coloraxis=dict(\n",
    "            colorbar=dict(outlinewidth=110, tickcolor=\"black\", outlinecolor=\"yellow\")\n",
    "        ),\n",
    "        layout_annotationdefaults=dict(font=dict(color=\"#ff0000\")),\n",
    "        layout_title=dict(\n",
    "            x=0.5, y=0.9, font=dict(family=\"Segoe UI\", color=\"#000000\", size=30)\n",
    "        ),\n",
    "        layout_font=dict(color=\"#2a3f5f\"),\n",
    "        layout_plot_bgcolor=\"white\",\n",
    "        layout_xaxis=dict(\n",
    "            tickmode=\"auto\",\n",
    "            automargin=True,\n",
    "            gridcolor=\"#F3F3F3\",\n",
    "            linecolor=\"#F3F3F3\",\n",
    "            ticks=\"\",\n",
    "            title=dict(\n",
    "                font=dict(family=\"Segoe UI\", color=\"#44546a\", size=20), standoff=15\n",
    "            ),\n",
    "            zerolinecolor=\"Black\",\n",
    "            zerolinewidth=1,\n",
    "        ),\n",
    "        layout_yaxis=dict(\n",
    "            tickmode=\"auto\",\n",
    "            automargin=True,\n",
    "            gridcolor=\"#F3F3F3\",\n",
    "            linecolor=\"#F3F3F3\",\n",
    "            ticks=\"\",\n",
    "            title=dict(\n",
    "                font=dict(family=\"Segoe UI\", color=\"#44546a\", size=20), standoff=15\n",
    "            ),\n",
    "            zerolinecolor=\"Black\",\n",
    "            zerolinewidth=1,\n",
    "        ),\n",
    "        layout_scene=dict(\n",
    "            xaxis=dict(\n",
    "                backgroundcolor=\"#1a00d9\",\n",
    "                gridcolor=\"#DFE8F3\",\n",
    "                gridwidth=2,\n",
    "                linecolor=\"#EBF0F8\",\n",
    "                showbackground=True,\n",
    "                ticks=\"\",\n",
    "                zerolinecolor=\"#EBF0F8\",\n",
    "            ),\n",
    "            yaxis=dict(\n",
    "                backgroundcolor=\"#1a00d9\",\n",
    "                gridcolor=\"#DFE8F3\",\n",
    "                gridwidth=2,\n",
    "                linecolor=\"#EBF0F8\",\n",
    "                showbackground=True,\n",
    "                ticks=\"\",\n",
    "                zerolinecolor=\"#EBF0F8\",\n",
    "            ),\n",
    "            zaxis=dict(\n",
    "                backgroundcolor=\"#1a00d9\",\n",
    "                gridcolor=\"#DFE8F3\",\n",
    "                gridwidth=2,\n",
    "                linecolor=\"#EBF0F8\",\n",
    "                showbackground=True,\n",
    "                ticks=\"\",\n",
    "                zerolinecolor=\"#EBF0F8\",\n",
    "            ),\n",
    "        ),\n",
    "        layout_mapbox=dict(style=\"carto-darkmatter\"),\n",
    "        layout_colorway=[\n",
    "            \"#1a00d9\",\n",
    "            \"#fe6e06\",\n",
    "            \"#ffab31\",\n",
    "            \"#ff0000\",\n",
    "            \"#dbeaff\",\n",
    "            \"#44546a\",\n",
    "        ],\n",
    "        layout_legend=dict(\n",
    "            x=1,\n",
    "            traceorder=\"reversed\",\n",
    "            font=dict(family=\"Segoe UI\", size=12, color=\"black\"),\n",
    "            bgcolor=\"#EBF0F8\",\n",
    "            bordercolor=\"Black\",\n",
    "            borderwidth=2,\n",
    "        ),\n",
    "        layout_colorscale=dict(\n",
    "            diverging=[\n",
    "                [0, \"#8e0152\"],\n",
    "                [0.1, \"#c51b7d\"],\n",
    "                [0.2, \"#de77ae\"],\n",
    "                [0.3, \"#f1b6da\"],\n",
    "                [0.4, \"#fde0ef\"],\n",
    "                [0.5, \"#f7f7f7\"],\n",
    "                [0.6, \"#e6f5d0\"],\n",
    "                [0.7, \"#b8e186\"],\n",
    "                [0.8, \"#7fbc41\"],\n",
    "                [0.9, \"#4d9221\"],\n",
    "                [1, \"#276419\"],\n",
    "            ],\n",
    "            sequential=[\n",
    "                [0.0, \"#0d0887\"],\n",
    "                [0.1111111111111111, \"#46039f\"],\n",
    "                [0.2222222222222222, \"#7201a8\"],\n",
    "                [0.3333333333333333, \"#9c179e\"],\n",
    "                [0.4444444444444444, \"#bd3786\"],\n",
    "                [0.5555555555555556, \"#d8576b\"],\n",
    "                [0.6666666666666666, \"#ed7953\"],\n",
    "                [0.7777777777777778, \"#fb9f3a\"],\n",
    "                [0.8888888888888888, \"#fdca26\"],\n",
    "                [1.0, \"#f0f921\"],\n",
    "            ],\n",
    "            sequentialminus=[\n",
    "                [0.0, \"#0d0887\"],\n",
    "                [0.1111111111111111, \"#46039f\"],\n",
    "                [0.2222222222222222, \"#7201a8\"],\n",
    "                [0.3333333333333333, \"#9c179e\"],\n",
    "                [0.4444444444444444, \"#bd3786\"],\n",
    "                [0.5555555555555556, \"#d8576b\"],\n",
    "                [0.6666666666666666, \"#ed7953\"],\n",
    "                [0.7777777777777778, \"#fb9f3a\"],\n",
    "                [0.8888888888888888, \"#fdca26\"],\n",
    "                [1.0, \"#f0f921\"],\n",
    "            ],\n",
    "        ),\n",
    "        layout_hoverlabel=dict(\n",
    "            align=\"left\", bgcolor=\"white\", font_size=16, font_family=\"Segoe UI\"\n",
    "        ),\n",
    "        layout_hovermode=\"closest\",\n",
    "    )\n",
    "    return template\n",
    "\n",
    "\n",
    "pio.templates[\"ganit\"] = get_custom_template()\n",
    "# plotly_template = pio.templates[\"ganit\"] #Use as a parameter in each plot call (template=plotly_template)\n",
    "pio.templates.default = \"ganit\"  # Set default theme across all plots\n"
   ]
  },
  {
   "cell_type": "code",
   "execution_count": null,
   "metadata": {},
   "outputs": [],
   "source": []
  },
  {
   "cell_type": "code",
   "execution_count": 22,
   "metadata": {},
   "outputs": [],
   "source": [
    "import numpy as np\n",
    "import pandas as pd\n",
    "import matplotlib.pyplot as plt\n",
    "import seaborn as sns\n",
    "from tqdm import tqdm\n",
    "import random as random\n",
    "from sklearn.datasets import load_boston\n",
    "boston = load_boston()\n",
    "X = boston.data\n",
    "Y = boston.target"
   ]
  },
  {
   "cell_type": "code",
   "execution_count": 23,
   "metadata": {},
   "outputs": [
    {
     "data": {
      "text/plain": [
       "(506, 13)"
      ]
     },
     "execution_count": 23,
     "metadata": {},
     "output_type": "execute_result"
    }
   ],
   "source": [
    "X.shape"
   ]
  },
  {
   "cell_type": "code",
   "execution_count": 24,
   "metadata": {},
   "outputs": [
    {
     "data": {
      "text/plain": [
       "array([[6.3200e-03, 1.8000e+01, 2.3100e+00, ..., 1.5300e+01, 3.9690e+02,\n",
       "        4.9800e+00],\n",
       "       [2.7310e-02, 0.0000e+00, 7.0700e+00, ..., 1.7800e+01, 3.9690e+02,\n",
       "        9.1400e+00],\n",
       "       [2.7290e-02, 0.0000e+00, 7.0700e+00, ..., 1.7800e+01, 3.9283e+02,\n",
       "        4.0300e+00],\n",
       "       ...,\n",
       "       [6.0760e-02, 0.0000e+00, 1.1930e+01, ..., 2.1000e+01, 3.9690e+02,\n",
       "        5.6400e+00],\n",
       "       [1.0959e-01, 0.0000e+00, 1.1930e+01, ..., 2.1000e+01, 3.9345e+02,\n",
       "        6.4800e+00],\n",
       "       [4.7410e-02, 0.0000e+00, 1.1930e+01, ..., 2.1000e+01, 3.9690e+02,\n",
       "        7.8800e+00]])"
      ]
     },
     "execution_count": 24,
     "metadata": {},
     "output_type": "execute_result"
    }
   ],
   "source": [
    "X"
   ]
  },
  {
   "cell_type": "code",
   "execution_count": 26,
   "metadata": {},
   "outputs": [
    {
     "data": {
      "text/plain": [
       "array([[6.3200e-03, 2.3100e+00],\n",
       "       [2.7310e-02, 7.0700e+00],\n",
       "       [2.7290e-02, 7.0700e+00],\n",
       "       ...,\n",
       "       [6.0760e-02, 1.1930e+01],\n",
       "       [1.0959e-01, 1.1930e+01],\n",
       "       [4.7410e-02, 1.1930e+01]])"
      ]
     },
     "execution_count": 26,
     "metadata": {},
     "output_type": "execute_result"
    }
   ],
   "source": [
    "X=X[:,[0,2]]\n",
    "X# two independent variables"
   ]
  },
  {
   "cell_type": "code",
   "execution_count": 28,
   "metadata": {},
   "outputs": [
    {
     "data": {
      "image/png": "[encoded data removed]",
      "text/plain": [
       "<Figure size 432x288 with 1 Axes>"
      ]
     },
     "metadata": {
      "needs_background": "light"
     },
     "output_type": "display_data"
    }
   ],
   "source": [
    "##Plots\n",
    "X1 =X[:, 0]\n",
    "plt.scatter(X1, Y)\n",
    "plt.show()"
   ]
  },
  {
   "cell_type": "code",
   "execution_count": 29,
   "metadata": {},
   "outputs": [
    {
     "data": {
      "text/plain": [
       "506"
      ]
     },
     "execution_count": 29,
     "metadata": {},
     "output_type": "execute_result"
    }
   ],
   "source": [
    "len(X1)"
   ]
  },
  {
   "cell_type": "code",
   "execution_count": 27,
   "metadata": {},
   "outputs": [
    {
     "data": {
      "text/plain": [
       "506"
      ]
     },
     "execution_count": 27,
     "metadata": {},
     "output_type": "execute_result"
    }
   ],
   "source": [
    "len(Y)"
   ]
  },
  {
   "cell_type": "code",
   "execution_count": 30,
   "metadata": {},
   "outputs": [
    {
     "data": {
      "image/png": "[encoded data removed]",
      "text/plain": [
       "<Figure size 432x288 with 1 Axes>"
      ]
     },
     "metadata": {
      "needs_background": "light"
     },
     "output_type": "display_data"
    }
   ],
   "source": [
    "##Plots\n",
    "X2 =X[:, 1]\n",
    "plt.scatter(X2, Y)\n",
    "plt.show()"
   ]
  },
  {
   "cell_type": "code",
   "execution_count": 31,
   "metadata": {},
   "outputs": [
    {
     "data": {
      "text/plain": [
       "array([[-0.41978194, -1.2879095 ],\n",
       "       [-0.41733926, -0.59338101],\n",
       "       [-0.41734159, -0.59338101],\n",
       "       ...,\n",
       "       [-0.41344658,  0.11573841],\n",
       "       [-0.40776407,  0.11573841],\n",
       "       [-0.41500016,  0.11573841]])"
      ]
     },
     "execution_count": 31,
     "metadata": {},
     "output_type": "execute_result"
    }
   ],
   "source": [
    "from sklearn.preprocessing import StandardScaler\n",
    "sc=StandardScaler()\n",
    "X_transform=sc.fit_transform(X)\n",
    "X_transform"
   ]
  },
  {
   "cell_type": "code",
   "execution_count": 32,
   "metadata": {},
   "outputs": [],
   "source": [
    "def predicted_y(weight,x,intercept):\n",
    "    return weight@x+intercept\n",
    "    \n",
    "\n",
    "# linear loss\n",
    "def loss(y,y_predicted):\n",
    "    n=X.shape[0]\n",
    "    s=(y-y_predicted)**2\n",
    "    return (1/n)*s\n",
    "\n",
    "#derivative of loss w.r.t weight\n",
    "def dldw(x,y,y_predicted):\n",
    "    n=X.shape[0]\n",
    "    s=-x*(y-y_predicted)\n",
    "    return (2/n)*s\n",
    "    \n",
    "\n",
    "# derivative of loss w.r.t bias\n",
    "def dldb(y,y_predicted):\n",
    "    n=X.shape[0]\n",
    "    s=-(y-y_predicted)\n",
    "    return (2/n) * s\n",
    "   \n",
    "\n",
    "   \n",
    "        \n",
    "        \n",
    "# gradient function\n",
    "def gradient_descent(x,y):\n",
    "    weight_vector=np.random.randn(x.shape[1])\n",
    "    intercept=0\n",
    "    epoch = 2000\n",
    "    n = len(x)\n",
    "    linear_loss=[]\n",
    "    learning_rate = 0.001\n",
    "    \n",
    "    for i in tqdm(range(epoch)):\n",
    "        \n",
    "        for j in range(n):\n",
    "            random_index = random.randint(0,n-1)\n",
    "            x_sample = x[random_index]\n",
    "            y_sample = y[random_index]\n",
    "            y_predicted = predicted_y(weight_vector,x_sample,intercept)\n",
    "            # updation of weight and bias for every records\n",
    "            weight_vector = weight_vector - learning_rate *dldw(x_sample,y_sample,y_predicted) \n",
    "            intercept = intercept - learning_rate * dldb(y_sample,y_predicted)\n",
    "        linear_loss.append(loss(y_sample,y_predicted))    \n",
    "        \n",
    "        \n",
    "    plt.plot(np.arange(1,epoch),linear_loss[1:])\n",
    "    plt.xlabel(\"number of epoch\")\n",
    "    plt.ylabel(\"loss\")\n",
    "    \n",
    "    return weight_vector,intercept,"
   ]
  },
  {
   "cell_type": "code",
   "execution_count": null,
   "metadata": {},
   "outputs": [
    {
     "name": "stderr",
     "output_type": "stream",
     "text": [
      " 44%|██████████████████████████████████▎                                           | 880/2000 [00:02<00:03, 342.80it/s]"
     ]
    }
   ],
   "source": [
    "w,b=gradient_descent(X_transform,Y)\n"
   ]
  },
  {
   "cell_type": "code",
   "execution_count": null,
   "metadata": {},
   "outputs": [],
   "source": []
  }
 ],
 "metadata": {
  "kernelspec": {
   "display_name": "Python 3 (ipykernel)",
   "language": "python",
   "name": "python3"
  },
  "language_info": {
   "codemirror_mode": {
    "name": "ipython",
    "version": 3
   },
   "file_extension": ".py",
   "mimetype": "text/x-python",
   "name": "python",
   "nbconvert_exporter": "python",
   "pygments_lexer": "ipython3",
   "version": "3.9.12"
  },
  "toc": {
   "base_numbering": 1,
   "nav_menu": {},
   "number_sections": true,
   "sideBar": true,
   "skip_h1_title": false,
   "title_cell": "Table of Contents",
   "title_sidebar": "Contents",
   "toc_cell": false,
   "toc_position": {},
   "toc_section_display": true,
   "toc_window_display": false
  },
  "vscode": {
   "interpreter": {
    "hash": "0c83ef391991198bb404585d41f98c63070c7981a5f38f3fc06ee8c678d31e77"
   }
  }
 },
 "nbformat": 4,
 "nbformat_minor": 2
}
